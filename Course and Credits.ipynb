{
 "cells": [
  {
   "cell_type": "markdown",
   "metadata": {},
   "source": [
    "# ASSIGNMENT 7"
   ]
  },
  {
   "cell_type": "code",
   "execution_count": 2,
   "metadata": {},
   "outputs": [
    {
     "name": "stdin",
     "output_type": "stream",
     "text": [
      " Choose Option 1, 2, 3 \n",
      "  1. Show All Course Names, Credits, and ClassName \n",
      "  2. Search for Class Using Course Code \n",
      "  3. End \n",
      "      \n",
      " 1\n"
     ]
    },
    {
     "name": "stdout",
     "output_type": "stream",
     "text": [
      "   Course_codes                                       Course_names Credits\n",
      "0          2101                         Principles of Accounting\\n       3\n",
      "1          2203  Principles of Managerial Accounting for Non-ac...       3\n",
      "2          3000                           Financial Accounting I\\n       4\n",
      "3          3100                          Financial Accounting II\\n       4\n",
      "4          3200                                  Cost Accounting\\n       4\n",
      "5          3202                   Accounting Information Systems\\n       3\n",
      "6          4091                    Special Topics in Accountancy\\n       1\n",
      "7          4092                    Special Topics in Accountancy\\n       2\n",
      "8          4093                    Special Topics in Accountancy\\n       3\n",
      "9          4094                    Special Topics in Accountancy\\n     1.5\n",
      "10         4100                         Financial Accounting III\\n       4\n",
      "11         4300                          Federal Income Taxation\\n       4\n",
      "12         4306     Financial Statement Analysis and Valuation I\\n       4\n",
      "13         5000                                Independent Study\\n       1\n",
      "14         5100                            Accounting Internship\\n       1\n",
      "15         5200                            Accounting Internship\\n       3\n",
      "16         5400                           Principles of Auditing\\n       4\n"
     ]
    },
    {
     "name": "stdin",
     "output_type": "stream",
     "text": [
      " Choose Option 1, 2, 3 \n",
      "  1. Show All Course Names, Credits, and ClassName \n",
      "  2. Search for Class Using Course Code \n",
      "  3. End \n",
      "      \n",
      " 3\n"
     ]
    },
    {
     "name": "stdout",
     "output_type": "stream",
     "text": [
      "Thank You\n"
     ]
    }
   ],
   "source": [
    "import pandas as pd\n",
    "import numpy as np\n",
    "mydict = {}\n",
    "course_codes = []\n",
    "course_names = []\n",
    "credits = []\n",
    "with open('accounting.txt') as as7:\n",
    "    lines = as7.readlines()\n",
    "    for line_num, line in enumerate(lines):\n",
    "        if(line_num%3 == 0):\n",
    "            st = line.split()\n",
    "            if(len(st)>1):\n",
    "                course_code = st[1]\n",
    "                course_codes.append(course_code)\n",
    "        elif(line_num%3 ==1):\n",
    "            course_names.append(line)\n",
    "        else:\n",
    "            stt=line.split()\n",
    "            if (len(stt)>1):\n",
    "                credit_amt = stt[0]\n",
    "                credits.append(credit_amt)\n",
    "\n",
    "mydict['Course_codes'] = course_codes\n",
    "mydict['Course_names'] = course_names\n",
    "mydict['Credits'] = credits\n",
    "\n",
    "df = pd.DataFrame(mydict)\n",
    "\n",
    "while True:\n",
    "    try:\n",
    "        ui= int(input(' Choose Option 1, 2, 3 \\n  1. Show All Course Names, Credits, and ClassName \\n  2. Search for Class Using Course Code \\n  3. End \\n      \\n'))\n",
    "        if (int(ui) == 1):\n",
    "            print(df)\n",
    "        elif (int(ui) == 2):\n",
    "            code = input(' Enter the course code: ')\n",
    "            if (code in list(df['Course_codes'])):\n",
    "                print(df[df['Course_codes'] == code])\n",
    "            else:\n",
    "                print(\"This course could not be found.\")\n",
    "        else:\n",
    "            print('Thank You')\n",
    "            break;\n",
    "    except Exception:\n",
    "        print()\n",
    "        print(\" Please enter correct Course Code. \")"
   ]
  },
  {
   "cell_type": "code",
   "execution_count": null,
   "metadata": {},
   "outputs": [],
   "source": []
  }
 ],
 "metadata": {
  "kernelspec": {
   "display_name": "Python 3",
   "language": "python",
   "name": "python3"
  },
  "language_info": {
   "codemirror_mode": {
    "name": "ipython",
    "version": 3
   },
   "file_extension": ".py",
   "mimetype": "text/x-python",
   "name": "python",
   "nbconvert_exporter": "python",
   "pygments_lexer": "ipython3",
   "version": "3.8.3"
  }
 },
 "nbformat": 4,
 "nbformat_minor": 4
}
